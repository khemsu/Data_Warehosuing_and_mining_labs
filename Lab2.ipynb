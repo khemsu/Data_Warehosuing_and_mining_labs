{
  "nbformat": 4,
  "nbformat_minor": 0,
  "metadata": {
    "colab": {
      "provenance": [],
      "mount_file_id": "1oaZGFGv486u49K5JL_wHTuqKcPYmNIDM",
      "authorship_tag": "ABX9TyO60H/8vAFcLrHR7t2ot+mX",
      "include_colab_link": true
    },
    "kernelspec": {
      "name": "python3",
      "display_name": "Python 3"
    },
    "language_info": {
      "name": "python"
    }
  },
  "cells": [
    {
      "cell_type": "markdown",
      "metadata": {
        "id": "view-in-github",
        "colab_type": "text"
      },
      "source": [
        "<a href=\"https://colab.research.google.com/github/khemsu/Data_Warehosuing_and_mining_labs/blob/main/Lab2.ipynb\" target=\"_parent\"><img src=\"https://colab.research.google.com/assets/colab-badge.svg\" alt=\"Open In Colab\"/></a>"
      ]
    },
    {
      "cell_type": "markdown",
      "source": [
        "Q1)"
      ],
      "metadata": {
        "id": "4n9i7cmhOTqJ"
      }
    },
    {
      "cell_type": "code",
      "execution_count": 2,
      "metadata": {
        "colab": {
          "base_uri": "https://localhost:8080/"
        },
        "id": "sylJmjlmOHlc",
        "outputId": "b92839ec-a4d5-4aa8-8f72-d6d55ea33338"
      },
      "outputs": [
        {
          "output_type": "stream",
          "name": "stdout",
          "text": [
            "Sample transactions: [['Robotic Arm', 'Food Packets'], ['Sleeping Bag', 'Treadmill', 'Food Packets'], ['Robotic Arm', 'Space Suit', '3D Printer'], ['Food Packets', 'Carbon Dioxide Scrubbers'], ['Sleeping Bag', 'Space Suit']]\n",
            "\n",
            "📌 Frequent Itemsets (Support >= 0.2):\n",
            "['Carbon Dioxide Scrubbers'] - support: 0.24\n",
            "['Space Suit'] - support: 0.32\n",
            "['Treadmill'] - support: 0.28\n",
            "['3D Printer'] - support: 0.28\n",
            "['Food Packets'] - support: 0.40\n",
            "['Sleeping Bag'] - support: 0.32\n",
            "['Robotic Arm'] - support: 0.34\n",
            "['Food Packets', 'Robotic Arm'] - support: 0.14\n",
            "['Robotic Arm', 'Space Suit'] - support: 0.10\n",
            "['Food Packets', 'Sleeping Bag'] - support: 0.10\n",
            "['Food Packets', 'Space Suit'] - support: 0.10\n",
            "['3D Printer', 'Sleeping Bag'] - support: 0.10\n",
            "['Food Packets', 'Treadmill'] - support: 0.12\n",
            "['Robotic Arm', 'Sleeping Bag'] - support: 0.10\n",
            "\n",
            "📈 Association Rules:\n",
            "['Food Packets'] => ['Robotic Arm'] | support=0.14, confidence=0.35, lift=1.03\n",
            "['Robotic Arm'] => ['Food Packets'] | support=0.14, confidence=0.41, lift=1.03\n",
            "['Robotic Arm'] => ['Space Suit'] | support=0.10, confidence=0.29, lift=0.92\n",
            "['Space Suit'] => ['Robotic Arm'] | support=0.10, confidence=0.31, lift=0.92\n",
            "['Food Packets'] => ['Sleeping Bag'] | support=0.10, confidence=0.25, lift=0.78\n",
            "['Sleeping Bag'] => ['Food Packets'] | support=0.10, confidence=0.31, lift=0.78\n",
            "['Food Packets'] => ['Space Suit'] | support=0.10, confidence=0.25, lift=0.78\n",
            "['Space Suit'] => ['Food Packets'] | support=0.10, confidence=0.31, lift=0.78\n",
            "['3D Printer'] => ['Sleeping Bag'] | support=0.10, confidence=0.36, lift=1.12\n",
            "['Sleeping Bag'] => ['3D Printer'] | support=0.10, confidence=0.31, lift=1.12\n",
            "['Food Packets'] => ['Treadmill'] | support=0.12, confidence=0.30, lift=1.07\n",
            "['Treadmill'] => ['Food Packets'] | support=0.12, confidence=0.43, lift=1.07\n",
            "['Robotic Arm'] => ['Sleeping Bag'] | support=0.10, confidence=0.29, lift=0.92\n",
            "['Sleeping Bag'] => ['Robotic Arm'] | support=0.10, confidence=0.31, lift=0.92\n"
          ]
        }
      ],
      "source": [
        "import pandas as pd\n",
        "from itertools import combinations\n",
        "import warnings\n",
        "warnings.filterwarnings('ignore')\n",
        "\n",
        "try:\n",
        "    with open(\"/content/drive/MyDrive/DataMining/space (1).txt\", \"r\") as f:\n",
        "        lines = f.readlines()[1:]\n",
        "except FileNotFoundError:\n",
        "    print(\"Error: 'sports.txt' not found. Please check the file path.\")\n",
        "    raise\n",
        "\n",
        "transactions_list = []\n",
        "for line in lines:\n",
        "    parts = line.strip().split(\",\")\n",
        "    items = [item.strip() for item in parts[1:] if item.strip()]\n",
        "    if items:\n",
        "        transactions_list.append(items)\n",
        "\n",
        "\n",
        "print(\"Sample transactions:\", transactions_list[:5])\n",
        "\n",
        "def get_support(item, transactions):\n",
        "    count = sum(1 for transaction in transactions if set(item).issubset(set(transaction)))\n",
        "    return count / len(transactions) if transactions else 0\n",
        "\n",
        "def apriori(transactions, min_support):\n",
        "    itemsets = []\n",
        "    single_items = set(item for transaction in transactions for item in transaction)\n",
        "\n",
        "    L1 = []\n",
        "    for item in single_items:\n",
        "        support = get_support([item], transactions)\n",
        "        if support >= min_support:\n",
        "            L1.append(([item], support))\n",
        "    itemsets.extend(L1)\n",
        "    if not L1:\n",
        "        return itemsets\n",
        "\n",
        "    k = 2\n",
        "    prev_frequent = [[item for item in items] for items, _ in L1]\n",
        "\n",
        "    while prev_frequent:\n",
        "        candidates = []\n",
        "        for i in range(len(prev_frequent)):\n",
        "            for j in range(i + 1, len(prev_frequent)):\n",
        "                itemset1, itemset2 = prev_frequent[i], prev_frequent[j]\n",
        "\n",
        "                if itemset1[:k-2] == itemset2[:k-2]:\n",
        "                    candidate = sorted(list(set(itemset1 + itemset2)))\n",
        "                    if len(candidate) == k:\n",
        "\n",
        "                        subsets = [sorted(list(c)) for c in combinations(candidate, k-1)]\n",
        "                        if all(sorted(s) in prev_frequent for s in subsets):\n",
        "                            candidates.append(candidate)\n",
        "\n",
        "        candidates = [list(c) for c in set(tuple(c) for c in candidates)]\n",
        "        if not candidates:\n",
        "            break\n",
        "\n",
        "        Lk = []\n",
        "        for candidate in candidates:\n",
        "            support = get_support(candidate, transactions)\n",
        "            if support >= min_support:\n",
        "                Lk.append((candidate, support))\n",
        "\n",
        "        if not Lk:\n",
        "            break\n",
        "        itemsets.extend(Lk)\n",
        "        prev_frequent = [[item for item in items] for items, _ in Lk]\n",
        "        k += 1\n",
        "\n",
        "    return itemsets\n",
        "\n",
        "\n",
        "\n",
        "\n",
        "def calc_confidence_lift(frequent_itemsets, transactions):\n",
        "    print(\"\\n📈 Association Rules:\")\n",
        "    rules_found = False\n",
        "    for itemset, support in frequent_itemsets:\n",
        "        if len(itemset) >= 2:\n",
        "            for i in range(1, len(itemset)):\n",
        "                for antecedent in combinations(itemset, i):\n",
        "                    antecedent = list(antecedent)\n",
        "                    consequent = sorted(list(set(itemset) - set(antecedent)))\n",
        "                    antecedent_support = get_support(antecedent, transactions)\n",
        "                    consequent_support = get_support(consequent, transactions)\n",
        "                    if antecedent_support > 0 and consequent_support > 0:\n",
        "                        confidence = support / antecedent_support\n",
        "                        lift = confidence / consequent_support\n",
        "                        print(f\"{antecedent} => {consequent} | support={support:.2f}, confidence={confidence:.2f}, lift={lift:.2f}\")\n",
        "                        rules_found = True\n",
        "    if not rules_found:\n",
        "        print(\"No association rules found. Try lowering min_support or check dataset.\")\n",
        "\n",
        "min_support = 0.1\n",
        "frequent_itemsets = apriori(transactions_list, min_support)\n",
        "\n",
        "print(\"\\n📌 Frequent Itemsets (Support >= 0.2):\")\n",
        "for itemset, support in frequent_itemsets:\n",
        "    print(f\"{itemset} - support: {support:.2f}\")\n",
        "\n",
        "calc_confidence_lift(frequent_itemsets, transactions_list)"
      ]
    },
    {
      "cell_type": "markdown",
      "source": [
        "b)\n"
      ],
      "metadata": {
        "id": "fSdbNP-hOXOv"
      }
    },
    {
      "cell_type": "code",
      "source": [
        "import pandas as pd\n",
        "from itertools import combinations\n",
        "from collections import defaultdict\n",
        "import warnings\n",
        "warnings.filterwarnings('ignore')\n",
        "\n",
        "# ✅ 1. Load sports.txt\n",
        "file_path = \"/content/drive/MyDrive/DataMining/sports (1).txt\"\n",
        "transactions = []\n",
        "\n",
        "try:\n",
        "    with open(file_path, \"r\") as f:\n",
        "        lines = f.readlines()[1:]  # Skip header\n",
        "except FileNotFoundError:\n",
        "    print(\"Error: File not found.\")\n",
        "    raise\n",
        "\n",
        "for line in lines:\n",
        "    parts = line.strip().split(\",\")\n",
        "    items = [item.strip() for item in parts[1:] if item.strip()]\n",
        "    if items:\n",
        "        transactions.append(items)\n",
        "\n",
        "print(\"Sample transactions:\", transactions[:5])\n",
        "total_tx = len(transactions)\n",
        "\n",
        "# ✅ 2. Support function\n",
        "def get_support(itemset, transactions):\n",
        "    count = sum(1 for tx in transactions if itemset.issubset(set(tx)))\n",
        "    return count / total_tx\n",
        "\n",
        "# ✅ 3. Apriori algorithm\n",
        "def apriori(transactions, min_support):\n",
        "    item_counts = defaultdict(int)\n",
        "\n",
        "    for tx in transactions:\n",
        "        for item in tx:\n",
        "            item_counts[frozenset([item])] += 1\n",
        "\n",
        "    frequent_itemsets = {item: count for item, count in item_counts.items() if count / total_tx >= min_support}\n",
        "    all_frequent = frequent_itemsets.copy()\n",
        "    current_freq = list(frequent_itemsets.keys())\n",
        "    k = 2\n",
        "\n",
        "    while current_freq:\n",
        "        candidates = set()\n",
        "        for i in range(len(current_freq)):\n",
        "            for j in range(i + 1, len(current_freq)):\n",
        "                union = current_freq[i] | current_freq[j]\n",
        "                if len(union) == k:\n",
        "                    candidates.add(union)\n",
        "\n",
        "        candidate_counts = defaultdict(int)\n",
        "        for tx in transactions:\n",
        "            tx_set = set(tx)\n",
        "            for candidate in candidates:\n",
        "                if candidate.issubset(tx_set):\n",
        "                    candidate_counts[candidate] += 1\n",
        "\n",
        "        current_freq = [item for item in candidate_counts if candidate_counts[item] / total_tx >= min_support]\n",
        "        all_frequent.update({item: candidate_counts[item] for item in current_freq})\n",
        "        k += 1\n",
        "\n",
        "    return all_frequent\n",
        "\n",
        "# ✅ 4. Generate rules\n",
        "def generate_rules(frequent_itemsets, transactions, min_confidence):\n",
        "    rules = []\n",
        "    for itemset in frequent_itemsets:\n",
        "        if len(itemset) < 2:\n",
        "            continue\n",
        "        support_itemset = frequent_itemsets[itemset] / total_tx\n",
        "        for i in range(1, len(itemset)):\n",
        "            for antecedent in combinations(itemset, i):\n",
        "                antecedent = frozenset(antecedent)\n",
        "                consequent = itemset - antecedent\n",
        "                support_ante = get_support(antecedent, transactions)\n",
        "                support_cons = get_support(consequent, transactions)\n",
        "                if support_ante > 0 and support_cons > 0:\n",
        "                    confidence = support_itemset / support_ante\n",
        "                    lift = confidence / support_cons\n",
        "                    if confidence >= min_confidence:\n",
        "                        rules.append({\n",
        "                            'antecedents': set(antecedent),\n",
        "                            'consequents': set(consequent),\n",
        "                            'support': round(support_itemset, 2),\n",
        "                            'confidence': round(confidence, 2),\n",
        "                            'lift': round(lift, 2)\n",
        "                        })\n",
        "    return rules\n",
        "\n",
        "# ✅ 5. Run everything\n",
        "min_support = 0.15\n",
        "min_confidence = 0.2\n",
        "\n",
        "frequent_itemsets = apriori(transactions, min_support)\n",
        "rules = generate_rules(frequent_itemsets, transactions, min_confidence)\n",
        "\n",
        "# ✅ 6. Display\n",
        "frequent_itemsets_df = pd.DataFrame([{\n",
        "    'itemsets': set(item),\n",
        "    'support': round(count / total_tx, 2)\n",
        "} for item, count in frequent_itemsets.items()])\n",
        "\n",
        "rules_df = pd.DataFrame(rules)\n",
        "\n",
        "print(\"\\n📌 Frequent Itemsets:\")\n",
        "print(frequent_itemsets_df)\n",
        "\n",
        "if not rules_df.empty:\n",
        "    print(\"\\n📈 Association Rules:\")\n",
        "    print(rules_df[['antecedents', 'consequents', 'support', 'confidence', 'lift']])\n",
        "else:\n",
        "    print(\"\\nNo association rules found with confidence ≥\", min_confidence)\n"
      ],
      "metadata": {
        "id": "zlp7y08HOYvX"
      },
      "execution_count": null,
      "outputs": []
    },
    {
      "cell_type": "markdown",
      "source": [
        "Q2)"
      ],
      "metadata": {
        "id": "lAvob5BiQ3lm"
      }
    },
    {
      "cell_type": "code",
      "source": [
        "import pandas as pd\n",
        "from itertools import combinations\n",
        "from collections import defaultdict\n",
        "\n",
        "try:\n",
        "    with open(\"/content/drive/MyDrive/DataMining/sports (1).txt\", \"r\") as f:\n",
        "        lines = f.readlines()[1:]\n",
        "except FileNotFoundError:\n",
        "    print(\"Error: 'sports.txt' not found. Please check the file path.\")\n",
        "    raise\n",
        "\n",
        "transactions_list = []\n",
        "for line in lines:\n",
        "    parts = line.strip().split(\",\")\n",
        "    items = [item.strip() for item in parts[1:] if item.strip()]\n",
        "    if items:\n",
        "        transactions_list.append(items)\n",
        "\n",
        "def get_support(item, transactions):\n",
        "    count = sum(1 for transaction in transactions if set(item).issubset(set(transaction)))\n",
        "    return count / len(transactions) if transactions else 0\n",
        "print(\"Sample transactions:\", transactions_list[:5])\n",
        "def fpgrowth(transactions, min_support):\n",
        "\n",
        "    item_counts = defaultdict(int)\n",
        "    for transaction in transactions:\n",
        "        for item in transaction:\n",
        "            item_counts[item] += 1\n",
        "\n",
        "    total = len(transactions)\n",
        "    frequent_items = [(item, count/total) for item, count in item_counts.items() if count/total >= min_support]\n",
        "    frequent_items.sort(key=lambda x: (-x[1], x[0]))\n",
        "    frequent_itemset = {item for item, _ in frequent_items}\n",
        "\n",
        "    ordered_transactions = []\n",
        "    for transaction in transactions:\n",
        "        ordered = [item for item in transaction if item in frequent_itemset]\n",
        "        ordered.sort(key=lambda x: (-item_counts[x], x))\n",
        "        if ordered:\n",
        "            ordered_transactions.append(ordered)\n",
        "\n",
        "    patterns = []\n",
        "    for item, support in frequent_items:\n",
        "\n",
        "        conditional_transactions = [\n",
        "            [i for i in t if item_counts[i] >= item_counts[item] and i != item]\n",
        "            for t in ordered_transactions if item in t\n",
        "        ]\n",
        "\n",
        "        for k in range(1, max(len(t) for t in conditional_transactions) + 1):\n",
        "            candidate_counts = defaultdict(int)\n",
        "            for t in conditional_transactions:\n",
        "                for combo in combinations(t, k):\n",
        "                    candidate_counts[combo] += 1\n",
        "\n",
        "            for combo, count in candidate_counts.items():\n",
        "\n",
        "                pattern = sorted(list(combo) + [item])\n",
        "                support = count / total\n",
        "                if support >= min_support:\n",
        "                    patterns.append((pattern, support))\n",
        "\n",
        "\n",
        "    patterns.extend([([item], support) for item, support in frequent_items])\n",
        "\n",
        "\n",
        "    unique_patterns = {}\n",
        "    for pattern, support in patterns:\n",
        "        key = tuple(sorted(pattern))\n",
        "        if key not in unique_patterns or unique_patterns[key] < support:\n",
        "            unique_patterns[key] = support\n",
        "\n",
        "    return [(list(k), v) for k, v in unique_patterns.items()]\n",
        "\n",
        "def calc_confidence_lift(frequent_itemsets, transactions):\n",
        "    print(\"\\n📈 Association Rules:\")\n",
        "    rules_found = False\n",
        "    for itemset, support in frequent_itemsets:\n",
        "        if len(itemset) >= 2:\n",
        "            for i in range(1, len(itemset)):\n",
        "                for antecedent in combinations(itemset, i):\n",
        "                    antecedent = list(antecedent)\n",
        "                    consequent = sorted(list(set(itemset) - set(antecedent)))\n",
        "                    antecedent_support = get_support(antecedent, transactions)\n",
        "                    consequent_support = get_support(consequent, transactions)\n",
        "                    if antecedent_support > 0 and consequent_support > 0:\n",
        "                        confidence = support / antecedent_support\n",
        "                        lift = confidence / consequent_support\n",
        "                        print(f\"{antecedent} => {consequent} | support={support:.2f}, confidence={confidence:.2f}, lift={lift:.2f}\")\n",
        "                        rules_found = True\n",
        "    if not rules_found:\n",
        "        print(\"No association rules found. Try lowering min_support or check dataset.\")\n",
        "\n",
        "\n",
        "\n",
        "min_support = 0.1\n",
        "print(\"\\n=== FP-Growth Results ===\")\n",
        "frequent_patterns = fpgrowth(transactions_list, min_support)\n",
        "print(\"📌 Frequent Itemsets from FP-Growth:\")\n",
        "for itemset, support in frequent_patterns:\n",
        "    print(f\"{itemset} - support: {support:.2f}\")\n",
        "calc_confidence_lift(frequent_patterns, transactions_list)"
      ],
      "metadata": {
        "colab": {
          "base_uri": "https://localhost:8080/"
        },
        "id": "8_7PeSRYQ60o",
        "outputId": "22ed8bd0-105b-4b93-8336-d55ef4443249"
      },
      "execution_count": 1,
      "outputs": [
        {
          "output_type": "stream",
          "name": "stdout",
          "text": [
            "Sample transactions: [['football', 'cricket ball', 'gloves'], ['cricket bat', 'cricket ball', 'juice'], ['football', 'water bottle', 'juice'], ['cricket bat', 'cricket ball', 'gloves'], ['football', 'ice cream']]\n",
            "\n",
            "=== FP-Growth Results ===\n",
            "📌 Frequent Itemsets from FP-Growth:\n",
            "['football', 'juice'] - support: 0.14\n",
            "['cricket bat', 'juice'] - support: 0.14\n",
            "['cricket bat', 'football'] - support: 0.12\n",
            "['cricket ball', 'football'] - support: 0.10\n",
            "['cricket ball', 'gloves'] - support: 0.14\n",
            "['cricket ball', 'juice'] - support: 0.12\n",
            "['cricket ball', 'cricket bat'] - support: 0.14\n",
            "['football', 'gloves'] - support: 0.14\n",
            "['cricket bat', 'gloves'] - support: 0.12\n",
            "['gloves', 'juice'] - support: 0.10\n",
            "['football', 'water bottle'] - support: 0.10\n",
            "['football', 'ice cream'] - support: 0.10\n",
            "['ice cream', 'juice'] - support: 0.10\n",
            "['football'] - support: 0.44\n",
            "['juice'] - support: 0.42\n",
            "['cricket bat'] - support: 0.40\n",
            "['cricket ball'] - support: 0.36\n",
            "['gloves'] - support: 0.36\n",
            "['water bottle'] - support: 0.28\n",
            "['ice cream'] - support: 0.26\n",
            "\n",
            "📈 Association Rules:\n",
            "['football'] => ['juice'] | support=0.14, confidence=0.32, lift=0.76\n",
            "['juice'] => ['football'] | support=0.14, confidence=0.33, lift=0.76\n",
            "['cricket bat'] => ['juice'] | support=0.14, confidence=0.35, lift=0.83\n",
            "['juice'] => ['cricket bat'] | support=0.14, confidence=0.33, lift=0.83\n",
            "['cricket bat'] => ['football'] | support=0.12, confidence=0.30, lift=0.68\n",
            "['football'] => ['cricket bat'] | support=0.12, confidence=0.27, lift=0.68\n",
            "['cricket ball'] => ['football'] | support=0.10, confidence=0.28, lift=0.63\n",
            "['football'] => ['cricket ball'] | support=0.10, confidence=0.23, lift=0.63\n",
            "['cricket ball'] => ['gloves'] | support=0.14, confidence=0.39, lift=1.08\n",
            "['gloves'] => ['cricket ball'] | support=0.14, confidence=0.39, lift=1.08\n",
            "['cricket ball'] => ['juice'] | support=0.12, confidence=0.33, lift=0.79\n",
            "['juice'] => ['cricket ball'] | support=0.12, confidence=0.29, lift=0.79\n",
            "['cricket ball'] => ['cricket bat'] | support=0.14, confidence=0.39, lift=0.97\n",
            "['cricket bat'] => ['cricket ball'] | support=0.14, confidence=0.35, lift=0.97\n",
            "['football'] => ['gloves'] | support=0.14, confidence=0.32, lift=0.88\n",
            "['gloves'] => ['football'] | support=0.14, confidence=0.39, lift=0.88\n",
            "['cricket bat'] => ['gloves'] | support=0.12, confidence=0.30, lift=0.83\n",
            "['gloves'] => ['cricket bat'] | support=0.12, confidence=0.33, lift=0.83\n",
            "['gloves'] => ['juice'] | support=0.10, confidence=0.28, lift=0.66\n",
            "['juice'] => ['gloves'] | support=0.10, confidence=0.24, lift=0.66\n",
            "['football'] => ['water bottle'] | support=0.10, confidence=0.23, lift=0.81\n",
            "['water bottle'] => ['football'] | support=0.10, confidence=0.36, lift=0.81\n",
            "['football'] => ['ice cream'] | support=0.10, confidence=0.23, lift=0.87\n",
            "['ice cream'] => ['football'] | support=0.10, confidence=0.38, lift=0.87\n",
            "['ice cream'] => ['juice'] | support=0.10, confidence=0.38, lift=0.92\n",
            "['juice'] => ['ice cream'] | support=0.10, confidence=0.24, lift=0.92\n"
          ]
        }
      ]
    },
    {
      "cell_type": "markdown",
      "source": [
        "# **Apriori Algorithm**\n"
      ],
      "metadata": {
        "id": "K1j5VtJ9O0B-"
      }
    },
    {
      "cell_type": "markdown",
      "source": [
        "Uses a bottom-up approach.\n",
        "\n",
        "Generates candidate itemsets level-by-level (e.g., single items, then pairs, then triples, etc.).\n",
        "\n",
        "Prunes itemsets that do not meet minimum support."
      ],
      "metadata": {
        "id": "96d4PgseO4uO"
      }
    },
    {
      "cell_type": "markdown",
      "source": [
        "# **FP-Growth Algorithm**"
      ],
      "metadata": {
        "id": "M6dxS9U2O81y"
      }
    },
    {
      "cell_type": "markdown",
      "source": [
        "Uses a divide-and-conquer strategy.\n",
        "\n",
        "Avoids candidate generation completely.\n",
        "\n",
        "Builds a compact FP-Tree to store frequent itemsets."
      ],
      "metadata": {
        "id": "LHcNwWM1PDm2"
      }
    },
    {
      "cell_type": "markdown",
      "source": [
        "# **Time Complexity**"
      ],
      "metadata": {
        "id": "jXn1FLUyPGLr"
      }
    },
    {
      "cell_type": "markdown",
      "source": [
        "Apriori:\n",
        "\n",
        "Worst-case: O(2^n), where n is the number of items.\n",
        "\n",
        "Overall: O(k⋅n⋅m), where:\n",
        "\n",
        "k: average size of itemsets, n: number of transactions, m: number of items per transaction.\n",
        "\n",
        "FP-Growth:\n",
        "\n",
        "Tree construction: O(n⋅m⋅logm).\n",
        "\n",
        "Mining time depends on the number and structure of frequent patterns.\n",
        "\n",
        "Usually faster than Apriori in practice."
      ],
      "metadata": {
        "id": "yKPK0ZUSPKzi"
      }
    },
    {
      "cell_type": "markdown",
      "source": [
        "# **Space Complexity**"
      ],
      "metadata": {
        "id": "blifv_nSPNAp"
      }
    },
    {
      "cell_type": "markdown",
      "source": [
        "Apriori:\n",
        "\n",
        "High memory usage.\n",
        "\n",
        "Stores all candidate itemsets in memory.\n",
        "\n",
        "FP-Growth:\n",
        "\n",
        "More memory-efficient.\n",
        "\n",
        "Uses FP-Tree to compress and store data compactly.\n",
        "\n"
      ],
      "metadata": {
        "id": "f9kQEoALPPNm"
      }
    },
    {
      "cell_type": "markdown",
      "source": [
        "# **Efficiency**"
      ],
      "metadata": {
        "id": "_IxHszfwPRcj"
      }
    },
    {
      "cell_type": "markdown",
      "source": [
        "Apriori:\n",
        "\n",
        "Slower on large or dense datasets.\n",
        "\n",
        "Requires multiple database scans.\n",
        "\n",
        "FP-Growth:\n",
        "\n",
        "Much faster for large datasets.\n",
        "\n",
        "Only two database scans needed (to build and mine the FP-Tree)."
      ],
      "metadata": {
        "id": "6hDicH48PUGV"
      }
    }
  ]
}